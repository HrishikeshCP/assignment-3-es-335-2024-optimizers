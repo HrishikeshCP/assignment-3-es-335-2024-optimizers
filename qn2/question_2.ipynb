{
 "cells": [
  {
   "cell_type": "code",
   "execution_count": null,
   "metadata": {},
   "outputs": [],
   "source": [
    "import torch\n",
    "import torch.nn as nn\n",
    "import torch.nn.functional as F\n",
    "import torch.optim as optim\n",
    "from torch.utils.data import Dataset, DataLoader\n",
    "import numpy as np\n",
    "import pandas as pd\n",
    "import matplotlib.pyplot as plt"
   ]
  },
  {
   "cell_type": "code",
   "execution_count": null,
   "metadata": {},
   "outputs": [],
   "source": [
    "np.random.seed(1)\n",
    "# Generating training data\n",
    "x1 = np.random.uniform(7, size=100).round(2)\n",
    "x2 = np.random.uniform(7, size=100).round(2)\n",
    "x3 = np.random.uniform(-7, 0, size=100).round(2)\n",
    "x4 = np.random.uniform(-7, 0, size=100).round(2)\n",
    "\n",
    "dataset_0_0 = pd.DataFrame({'x1': x1[ : 50], 'x2': x2[ : 50], 'y': [0]*50})\n",
    "dataset_0_1 = pd.DataFrame({'x1': x1[50 : ], 'x2': x4[ : 50], 'y': [1]*50})\n",
    "dataset_1_0 = pd.DataFrame({'x1': x3[ : 50], 'x2': x2[50 : ], 'y': [1]*50})\n",
    "dataset_1_1 = pd.DataFrame({'x1': x3[50 : ], 'x2': x4[50 : ], 'y': [0]*50})\n",
    "\n",
    "train_data = pd.concat([dataset_0_0, dataset_0_1, dataset_1_0, dataset_1_1])\n",
    "train_data"
   ]
  },
  {
   "cell_type": "code",
   "execution_count": null,
   "metadata": {},
   "outputs": [],
   "source": [
    "fig = plt.figure()\n",
    "ax = plt.axes()\n",
    "ax.scatter(train_data['x1'][train_data['y'] == 0], train_data['x2'][train_data['y'] == 0], color = 'blue', label='Class 0')\n",
    "ax.scatter(train_data['x1'][train_data['y'] == 1], train_data['x2'][train_data['y'] == 1], color = 'orange', label='Class 1')\n",
    "ax.legend()\n",
    "plt.show"
   ]
  },
  {
   "cell_type": "code",
   "execution_count": null,
   "metadata": {},
   "outputs": [],
   "source": [
    "np.random.seed(20)\n",
    "# Generating training data\n",
    "x1 = np.random.uniform(7, size=100).round(2)\n",
    "x2 = np.random.uniform(7, size=100).round(2)\n",
    "x3 = np.random.uniform(-7, 0, size=100).round(2)\n",
    "x4 = np.random.uniform(-7, 0, size=100).round(2)\n",
    "\n",
    "dataset_0_0 = pd.DataFrame({'x1': x1[ : 50], 'x2': x2[ : 50], 'y1': [0]*50})\n",
    "dataset_0_1 = pd.DataFrame({'x1': x1[50 : ], 'x2': x4[ : 50], 'y1': [1]*50})\n",
    "dataset_1_0 = pd.DataFrame({'x1': x3[ : 50], 'x2': x2[50 : ], 'y1': [1]*50})\n",
    "dataset_1_1 = pd.DataFrame({'x1': x3[50 : ], 'x2': x4[50 : ], 'y1': [0]*50})\n",
    "\n",
    "test_data = pd.concat([dataset_0_0, dataset_0_1, dataset_1_0, dataset_1_1])"
   ]
  },
  {
   "cell_type": "code",
   "execution_count": null,
   "metadata": {},
   "outputs": [],
   "source": [
    "fig = plt.figure()\n",
    "ax = plt.axes()\n",
    "ax.scatter(test_data['x1'][test_data['y1'] == 0], test_data['x2'][test_data['y1'] == 0], color = 'blue', label='Class 0')\n",
    "ax.scatter(test_data['x1'][test_data['y1'] == 1], test_data['x2'][test_data['y1'] == 1], color = 'orange', label='Class 1')\n",
    "ax.legend()\n",
    "plt.show"
   ]
  },
  {
   "cell_type": "code",
   "execution_count": null,
   "metadata": {},
   "outputs": [],
   "source": [
    "# Define custom dataset\n",
    "class CustomDataset(Dataset):\n",
    "    def __init__(self, features, labels):\n",
    "        self.features = features\n",
    "        self.labels = labels\n",
    "\n",
    "    def __len__(self):\n",
    "        return len(self.features)\n",
    "\n",
    "    def __getitem__(self, idx):\n",
    "        return self.features[idx], self.labels[idx]"
   ]
  },
  {
   "cell_type": "code",
   "execution_count": null,
   "metadata": {},
   "outputs": [],
   "source": [
    "# Shuffle train and test data\n",
    "train_data = train_data.sample(frac=1).reset_index(drop=True)\n",
    "test_data = test_data.sample(frac=1).reset_index(drop=True)"
   ]
  },
  {
   "cell_type": "code",
   "execution_count": null,
   "metadata": {},
   "outputs": [],
   "source": [
    "# Define features and target variable\n",
    "X_train = train_data[['x1', 'x2']].values.astype(np.float32)\n",
    "y_train = train_data['y'].values.reshape(-1, 1).astype(np.float32)\n",
    "X_test = test_data[['x1', 'x2']].values.astype(np.float32)\n",
    "y_test = test_data['y1'].values.reshape(-1, 1).astype(np.float32)"
   ]
  },
  {
   "cell_type": "code",
   "execution_count": null,
   "metadata": {},
   "outputs": [],
   "source": [
    "# Create DataLoader\n",
    "train_dataset = CustomDataset(X_train, y_train)\n",
    "test_dataset = CustomDataset(X_test, y_test)\n",
    "train_loader = DataLoader(train_dataset, batch_size=200, shuffle=True)\n",
    "test_loader = DataLoader(test_dataset, batch_size=200, shuffle=True)"
   ]
  },
  {
   "cell_type": "markdown",
   "metadata": {},
   "source": [
    "## MLP"
   ]
  },
  {
   "cell_type": "code",
   "execution_count": null,
   "metadata": {},
   "outputs": [],
   "source": [
    "# Define the MLP model\n",
    "class MLP(nn.Module):\n",
    "    def __init__(self, input_size, hidden_size):\n",
    "        super(MLP, self).__init__()\n",
    "        self.fc1 = nn.Linear(input_size, hidden_size)\n",
    "        self.fc2 = nn.Linear(hidden_size, 1)\n",
    "        self.sigmoid = nn.Sigmoid()\n",
    "    \n",
    "    def forward(self, x):\n",
    "        out = self.fc1(x)\n",
    "        out = self.sigmoid(out)\n",
    "        out = self.fc2(out)\n",
    "        out = self.sigmoid(out)\n",
    "        return out"
   ]
  },
  {
   "cell_type": "code",
   "execution_count": null,
   "metadata": {},
   "outputs": [],
   "source": [
    "# Initialize the model, loss function, and optimizer\n",
    "model = MLP(input_size=2, hidden_size=4)\n",
    "criterion = nn.BCELoss()\n",
    "optimizer = optim.Adam(model.parameters(), lr=0.03)\n",
    "model"
   ]
  },
  {
   "cell_type": "code",
   "execution_count": null,
   "metadata": {},
   "outputs": [],
   "source": [
    "# baseline accuracy and loss\n",
    "accuracy, train_loss = 0, 0\n",
    "for inputs, labels in train_loader:\n",
    "    outputs = model(inputs)\n",
    "    predicted_labels = torch.where(outputs >= 0.5 , 1.0, 0.0)\n",
    "    accuracy += torch.sum(predicted_labels == labels)\n",
    "    loss = criterion(outputs, labels)\n",
    "    train_loss += loss.item() \n",
    "\n",
    "print(f'Baseline accuracy {accuracy / len(train_loader.dataset)}, Baseline loss {train_loss/len(train_loader)}')"
   ]
  },
  {
   "cell_type": "code",
   "execution_count": null,
   "metadata": {},
   "outputs": [],
   "source": [
    "# Training loop\n",
    "epochs = 1000\n",
    "train_losses = []\n",
    "for epoch in range(epochs):\n",
    "    train_loss = 0.0\n",
    "    accuracy = 0\n",
    "    for inputs, labels in train_loader:\n",
    "        optimizer.zero_grad()\n",
    "        outputs = model(inputs)\n",
    "        predicted_labels = torch.where(outputs >= 0.5 , 1.0, 0.0)\n",
    "        accuracy += torch.sum(predicted_labels == labels)\n",
    "\n",
    "        loss = criterion(outputs, labels)\n",
    "        loss.backward()\n",
    "        optimizer.step()\n",
    "        \n",
    "        train_loss += loss.item() \n",
    "    \n",
    "    if epoch % 100 ==0:\n",
    "        print(f'Epoch {epoch} Accuracy {accuracy/len(train_loader.dataset):.4f} loss {train_loss/len(train_loader):.4f}')\n",
    "\n",
    "    train_loss /= len(train_loader)\n",
    "    train_losses.append(train_loss)\n",
    "    \n",
    "total_train_loss = np.mean(train_losses)\n",
    "print(f'Training loss: {total_train_loss:.4f}')"
   ]
  },
  {
   "cell_type": "code",
   "execution_count": null,
   "metadata": {},
   "outputs": [],
   "source": [
    "# MLP on test_data\n",
    "test_loss = 0.0\n",
    "accuracy = 0\n",
    "with torch.no_grad():\n",
    "    for inputs, labels in test_loader:\n",
    "        outputs = model(inputs)\n",
    "        predicted_labels = torch.where(outputs >= 0.5 , 1.0, 0.0)\n",
    "        accuracy += torch.sum(predicted_labels == labels)\n",
    "        loss = criterion(outputs, labels)\n",
    "        test_loss += loss.item()\n",
    "print(f'Test loss: {test_loss/len(test_loader):.4f}, accuracy: {accuracy/len(test_loader.dataset):.4f}')"
   ]
  },
  {
   "cell_type": "code",
   "execution_count": null,
   "metadata": {},
   "outputs": [],
   "source": [
    "input = torch.tensor([0.48, -0.15])\n",
    "output = model(input)\n",
    "print(output)"
   ]
  },
  {
   "cell_type": "code",
   "execution_count": null,
   "metadata": {},
   "outputs": [],
   "source": [
    "# Create meshgrid data for visualization\n",
    "xx = torch.arange(-7.0, 8.0).clone().detach()\n",
    "yy = torch.arange(-7.0, 8.0).clone().detach()\n",
    "xx, yy = torch.meshgrid(xx, yy)\n",
    "\n",
    "# Flatten meshgrid data\n",
    "xx1 = xx.reshape(-1, 1)\n",
    "yy1 = yy.reshape(-1, 1)\n",
    "\n",
    "# Combine xx1 and yy1 to create input data\n",
    "data = torch.hstack([xx1, yy1])\n",
    "\n",
    "# Get predictions from the model\n",
    "z = model(data)\n",
    "\n",
    "# Threshold predictions to get binary values\n",
    "z = torch.where(z > 0.5, 1, 0)\n",
    "\n",
    "# Reshape z to match the meshgrid dimensions\n",
    "z = z.reshape(15, 15)\n"
   ]
  },
  {
   "cell_type": "markdown",
   "metadata": {},
   "source": [
    "#### Decision surface of MLP "
   ]
  },
  {
   "cell_type": "code",
   "execution_count": null,
   "metadata": {},
   "outputs": [],
   "source": [
    "fig = plt.figure()\n",
    "ax = plt.axes()\n",
    "ax.contourf(xx, yy, z, colors = ['skyblue', 'orange', 'orange', 'skyblue'], levels = 2)\n",
    "ax.scatter(test_data['x1'][test_data['y1']==0], test_data['x2'][test_data['y1']==0], color = 'blue', label='Class 0')\n",
    "ax.scatter(test_data['x1'][test_data['y1']==1], test_data['x2'][test_data['y1']==1], color = 'red', label='Class 1')\n",
    "ax.legend()\n",
    "plt.show"
   ]
  },
  {
   "cell_type": "markdown",
   "metadata": {},
   "source": [
    "## MLP with L1 Regularisation"
   ]
  },
  {
   "cell_type": "code",
   "execution_count": null,
   "metadata": {},
   "outputs": [],
   "source": [
    "def create_train_val_loader(train_data, i, block_size, batch_size_train=200, batch_size_val=40):\n",
    "    start = i * block_size\n",
    "    end = start + block_size\n",
    "\n",
    "    val_dataset = train_data[start:end].reset_index(drop=True)\n",
    "    X_val = val_dataset[['x1', 'x2']].values.astype(np.float32)\n",
    "    y_val = val_dataset['y'].values.reshape(-1, 1).astype(np.float32)\n",
    "    val_dataset = CustomDataset(X_val, y_val)\n",
    "    val_loader = DataLoader(val_dataset, batch_size=batch_size_val, shuffle=True)\n",
    "\n",
    "    Xy_train = pd.concat([train_data[:start], train_data[end:]], axis=0).reset_index(drop=True)\n",
    "    X_train = Xy_train[['x1', 'x2']].values.astype(np.float32)\n",
    "    y_train = Xy_train['y'].values.reshape(-1, 1).astype(np.float32)\n",
    "    train_dataset = CustomDataset(X_train, y_train)\n",
    "    train_loader = DataLoader(train_dataset, batch_size=batch_size_train, shuffle=True)\n",
    "\n",
    "    return train_loader, val_loader"
   ]
  },
  {
   "cell_type": "code",
   "execution_count": null,
   "metadata": {},
   "outputs": [],
   "source": [
    "# 5-fold cross validation\n",
    "K = 5\n",
    "epochs = 1000\n",
    "block = len(train_data) // K\n",
    "valid_loss_acc = {}\n",
    "\n",
    "for learning_rate in [0.0001, 0.001, 0.01, 0.1, 1]:\n",
    "    for regularization_coefficient in [0.0001, 0.001, 0.01, 0.1, 1]:\n",
    "        k_cross_val_loss = []\n",
    "        k_cross_val_acc = []\n",
    "        for i in range(K):\n",
    "            #  Splitting Train into Train and Validation Dataset\n",
    "            train_loader, val_loader = create_train_val_loader(train_data, i,block)\n",
    "\n",
    "            # Initialize MLP\n",
    "            model = MLP(input_size=2, hidden_size=4)\n",
    "            criterion = nn.BCELoss()\n",
    "            optimizer = optim.Adam(model.parameters(), lr=learning_rate)\n",
    "\n",
    "            # Training the model\n",
    "            train_losses = []\n",
    "            for epoch in range(epochs):\n",
    "                train_loss = 0.0\n",
    "                accuracy = 0\n",
    "                for inputs, labels in train_loader:\n",
    "                    optimizer.zero_grad()\n",
    "                    outputs = model(inputs)\n",
    "                    predicted_labels = torch.where(outputs >= 0.5, 1.0, 0.0)\n",
    "                    accuracy += torch.sum(predicted_labels == labels)\n",
    "                    loss = criterion(outputs, labels)\n",
    "\n",
    "                    sum = 0\n",
    "                    for params in model.parameters():\n",
    "                        params = params.view(-1)\n",
    "                        sum += torch.sum(torch.abs(params))  # L1 regularization term\n",
    "\n",
    "                    loss += regularization_coefficient * sum\n",
    "                    loss.backward()\n",
    "                    optimizer.step()\n",
    "                    train_loss += loss.item() \n",
    "                \n",
    "                if epoch % 100 == 0:\n",
    "                    print(f'Epoch {epoch} Accuracy {accuracy/len(train_loader.dataset):.4f}')\n",
    "\n",
    "                train_loss /= len(train_loader)\n",
    "                train_losses.append(train_loss)\n",
    "                \n",
    "            total_train_loss = np.mean(train_losses)\n",
    "            print(f'In {i+1} Cross validation,for {learning_rate}_{regularization_coefficient} Training loss: {total_train_loss:.4f}')\n",
    "\n",
    "            # Validation\n",
    "            val_loss = 0.0\n",
    "            accuracy = 0\n",
    "            with torch.no_grad():\n",
    "                for inputs, labels in val_loader:    \n",
    "                    outputs = model(inputs)\n",
    "                    predicted_labels = torch.where(outputs >= 0.5, 1.0, 0.0)\n",
    "                    accuracy += torch.sum(predicted_labels == labels)\n",
    "\n",
    "                    loss = criterion(outputs, labels)\n",
    "                    for params in model.parameters():\n",
    "                        params = params.view(-1)\n",
    "                        sum += torch.sum(torch.abs(params))  # L1 regularization term\n",
    "                    loss += regularization_coefficient * sum\n",
    "\n",
    "                    val_loss += loss.item()\n",
    "\n",
    "            k_cross_val_loss.append(val_loss/len(val_loader))\n",
    "            k_cross_val_acc.append(accuracy/len(val_loader.dataset))\n",
    "            print(f'Validation loss: {val_loss/len(val_loader):.4f}, Validation accuracy: {accuracy/len(val_loader.dataset):.4f}')\n",
    "\n",
    "        valid_loss_acc[f'{learning_rate}_{regularization_coefficient}_loss'] = np.mean(k_cross_val_loss)\n",
    "        valid_loss_acc[f'{learning_rate}_{regularization_coefficient}_acc'] = np.mean(k_cross_val_acc)\n"
   ]
  },
  {
   "cell_type": "code",
   "execution_count": null,
   "metadata": {},
   "outputs": [],
   "source": [
    "t = pd.DataFrame(valid_loss_acc, index = ['val']).T\n",
    "t['val'] = t['val'].apply(lambda x: round(x, 2))\n",
    "t"
   ]
  },
  {
   "cell_type": "code",
   "execution_count": null,
   "metadata": {},
   "outputs": [],
   "source": [
    "best_params = t.idxmin()  # Find the hyperparameters that minimize the validation loss\n",
    "best_loss = t.min()  # Get the minimum validation loss\n",
    "best_accuracy = t.loc[best_params, 'val']  # Get the accuracy corresponding to the best parameters\n",
    "\n",
    "learning_rate = best_params['val'].split('_')[0]\n",
    "regularization_coefficient = best_params['val'].split('_')[1]\n",
    "validation_loss = best_loss['val']\n",
    "validation_accuracy = best_accuracy\n",
    "\n",
    "print(\"Best Hyperparameters (Minimize Validation Loss):\")\n",
    "print(\"Learning Rate:\", learning_rate)\n",
    "print(\"Regularization coefficient:\", regularization_coefficient)\n",
    "print(\"Validation Loss:\", validation_loss)\n",
    "print(\"Validation Accuracy:\", validation_accuracy)\n"
   ]
  },
  {
   "cell_type": "code",
   "execution_count": null,
   "metadata": {},
   "outputs": [],
   "source": [
    "model = MLP(input_size=2, hidden_size=4)\n",
    "criterion = nn.BCELoss()\n",
    "optimizer = optim.Adam(model.parameters(), lr=learning_rate)\n",
    "# regularization_coefficient = 0.001\n",
    "\n",
    "# training the model\n",
    "epochs = 1000\n",
    "train_losses = []\n",
    "for epoch in range(epochs):\n",
    "    train_loss = 0.0\n",
    "    accuracy = 0\n",
    "    for inputs, labels in train_loader:\n",
    "        optimizer.zero_grad()\n",
    "        outputs = model(inputs)\n",
    "        loss = criterion(outputs, labels)\n",
    "\n",
    "        sum = 0\n",
    "        for params in model.parameters():\n",
    "            params = params.view(-1)\n",
    "            sum += torch.sum(torch.abs(params))\n",
    "\n",
    "        loss += regularization_coefficient * sum\n",
    "        loss.backward()\n",
    "        optimizer.step()\n",
    "\n",
    "        train_loss += loss.item() \n",
    "    \n",
    "    if epoch % 100 ==0:\n",
    "        print(f'Epoch {epoch} Accuracy {accuracy/len(train_loader.dataset):.4f} loss {train_loss/len(train_loader):.4f}')\n",
    "\n",
    "    train_loss /= len(train_loader)\n",
    "    train_losses.append(train_loss)\n",
    "    \n",
    "total_train_loss = np.mean(train_losses)\n",
    "print(f'Training loss: {total_train_loss:.4f}')\n",
    "\n",
    "        "
   ]
  },
  {
   "cell_type": "code",
   "execution_count": null,
   "metadata": {},
   "outputs": [],
   "source": [
    "# X_test = test_data[['x1', 'x2']].values.astype(np.float32)\n",
    "# y_test = test_data['y1'].values.reshape(-1, 1).astype(np.float32)\n",
    "# test_dataset = CustomDataset(X_test, y_test)\n",
    "# test_loader = DataLoader(test_dataset, batch_size=200, shuffle=True)\n",
    "\n",
    "test_loss = 0.0\n",
    "accuracy = 0\n",
    "with torch.no_grad():\n",
    "    for inputs, labels in test_loader:\n",
    "        outputs = model(inputs)\n",
    "        predicted_labels = torch.where(outputs >= 0.5 , 1.0, 0.0)\n",
    "        accuracy += torch.sum(predicted_labels == labels)\n",
    "        loss = criterion(outputs, labels)\n",
    "        test_loss += loss.item()\n",
    "test_loss /= len(test_loader)\n",
    "print(f'Test loss: {test_loss:.4f}, accuracy: {accuracy/len(test_loader.dataset):.4f}')"
   ]
  },
  {
   "cell_type": "code",
   "execution_count": null,
   "metadata": {},
   "outputs": [],
   "source": [
    "# Generating a grid of points for evaluation\n",
    "x_values = torch.tensor(torch.arange(-7.0, 8.0), requires_grad=False)\n",
    "y_values = torch.tensor(torch.arange(-7.0, 8.0), requires_grad=False)\n",
    "x_values, y_values = torch.meshgrid(x_values, y_values)\n",
    "x_values = x_values.reshape(-1, 1)\n",
    "y_values = y_values.reshape(-1, 1)\n",
    "grid_data = torch.hstack([x_values, y_values])\n",
    "\n",
    "# Evaluating the model on the grid\n",
    "model_outputs = model(grid_data)\n",
    "\n",
    "# Thresholding the model outputs\n",
    "thresholded_outputs = torch.where(model_outputs > 0.5, 1, 0)\n",
    "\n",
    "# Reshaping the thresholded outputs into a 2D grid\n",
    "z = thresholded_outputs.reshape(15, 15)"
   ]
  },
  {
   "cell_type": "markdown",
   "metadata": {},
   "source": [
    "#### Decision surface of MLP with L1 Regularisation"
   ]
  },
  {
   "cell_type": "code",
   "execution_count": null,
   "metadata": {},
   "outputs": [],
   "source": [
    "fig = plt.figure()\n",
    "ax = plt.axes()\n",
    "ax.contourf(xx, yy, z, colors = ['skyblue', 'orange', 'orange', 'skyblue'], levels = 2)\n",
    "ax.scatter(test_data['x1'][test_data['y1']==0], test_data['x2'][test_data['y1']==0], color = 'blue',label='Class 0')\n",
    "ax.scatter(test_data['x1'][test_data['y1']==1], test_data['x2'][test_data['y1']==1], color = 'red', label='Class 1')\n",
    "ax.legend()\n",
    "plt.show"
   ]
  },
  {
   "cell_type": "markdown",
   "metadata": {},
   "source": [
    "## MLP with L2 Regularisation"
   ]
  },
  {
   "cell_type": "code",
   "execution_count": null,
   "metadata": {},
   "outputs": [],
   "source": [
    "# 5-fold cross validation\n",
    "K = 5\n",
    "epochs = 1000\n",
    "block = len(train_data) // K\n",
    "valid_loss_acc = {}\n",
    "\n",
    "for learning_rate in [0.0001, 0.001, 0.01, 0.1, 1]:\n",
    "    for regularization_coefficient in [0.0001, 0.001, 0.01, 0.1, 1]:\n",
    "        k_cross_val_loss = []\n",
    "        k_cross_val_acc = []\n",
    "        for i in range(K):\n",
    "            #  Splitting Train into Train and Validation Dataset\n",
    "            train_loader, val_loader = create_train_val_loader(train_data, i, block)\n",
    "\n",
    "            # Initialize MLP\n",
    "            model = MLP(input_size=2, hidden_size=4)\n",
    "            criterion = nn.BCELoss()\n",
    "            optimizer = optim.Adam(model.parameters(), lr=learning_rate)\n",
    "\n",
    "            # Training the model\n",
    "            train_losses = []\n",
    "            for epoch in range(epochs):\n",
    "                train_loss = 0.0\n",
    "                accuracy = 0\n",
    "                for inputs, labels in train_loader:\n",
    "                    optimizer.zero_grad()\n",
    "                    outputs = model(inputs)\n",
    "                    predicted_labels = torch.where(outputs >= 0.5, 1.0, 0.0)\n",
    "                    accuracy += torch.sum(predicted_labels == labels)\n",
    "                    loss = criterion(outputs, labels)\n",
    "\n",
    "                    sum = 0\n",
    "                    for params in model.parameters():\n",
    "                        sum += torch.sum(torch.square(params))  # L2 regularization term\n",
    "\n",
    "                    loss += regularization_coefficient * sum\n",
    "                    loss.backward()\n",
    "                    optimizer.step()\n",
    "                    train_loss += loss.item() \n",
    "                \n",
    "                if epoch % 100 == 0:\n",
    "                    print(f'Epoch {epoch} Accuracy {accuracy/len(train_loader.dataset):.4f}')\n",
    "\n",
    "                train_loss /= len(train_loader)\n",
    "                train_losses.append(train_loss)\n",
    "                \n",
    "            total_train_loss = np.mean(train_losses)\n",
    "            print(f'In {i+1} Cross validation,for {learning_rate}_{regularization_coefficient} Training loss: {total_train_loss:.4f}')\n",
    "\n",
    "            # Validation\n",
    "            val_loss = 0.0\n",
    "            accuracy = 0\n",
    "            with torch.no_grad():\n",
    "                for inputs, labels in val_loader:    \n",
    "                    outputs = model(inputs)\n",
    "                    predicted_labels = torch.where(outputs >= 0.5, 1.0, 0.0)\n",
    "                    accuracy += torch.sum(predicted_labels == labels)\n",
    "\n",
    "                    loss = criterion(outputs, labels)\n",
    "                    for params in model.parameters():\n",
    "                        sum += torch.sum(torch.square(params))  # L2 regularization term\n",
    "                    loss += regularization_coefficient * sum\n",
    "\n",
    "                    val_loss += loss.item()\n",
    "\n",
    "            k_cross_val_loss.append(val_loss/len(val_loader))\n",
    "            k_cross_val_acc.append(accuracy/len(val_loader.dataset))\n",
    "            print(f'Validation loss: {val_loss/len(val_loader):.4f}, Validation accuracy: {accuracy/len(val_loader.dataset):.4f}')\n",
    "\n",
    "        valid_loss_acc[f'{learning_rate}_{regularization_coefficient}_loss'] = np.mean(k_cross_val_loss)\n",
    "        valid_loss_acc[f'{learning_rate}_{regularization_coefficient}_acc'] = np.mean(k_cross_val_acc)\n"
   ]
  },
  {
   "cell_type": "code",
   "execution_count": null,
   "metadata": {},
   "outputs": [],
   "source": [
    "t = pd.DataFrame(valid_loss_acc, index = ['val']).T\n",
    "t['val'] = t['val'].apply(lambda x: round(x, 2))\n",
    "t"
   ]
  },
  {
   "cell_type": "code",
   "execution_count": null,
   "metadata": {},
   "outputs": [],
   "source": [
    "best_params = t.idxmin()  # Find the hyperparameters that minimize the validation loss\n",
    "best_loss = t.min()  # Get the minimum validation loss\n",
    "best_accuracy = t.loc[best_params, 'val']  # Get the accuracy corresponding to the best parameters\n",
    "\n",
    "learning_rate = best_params['val'].split('_')[0]\n",
    "regularization_coefficient = best_params['val'].split('_')[1]\n",
    "validation_loss = best_loss['val']\n",
    "validation_accuracy = best_accuracy\n",
    "\n",
    "print(\"Best Hyperparameters (Minimize Validation Loss):\")\n",
    "print(\"Learning Rate:\", learning_rate)\n",
    "print(\"Regularization coefficient:\", regularization_coefficient)\n",
    "print(\"Validation Loss:\", validation_loss)\n",
    "print(\"Validation Accuracy:\", validation_accuracy)\n"
   ]
  },
  {
   "cell_type": "code",
   "execution_count": null,
   "metadata": {},
   "outputs": [],
   "source": [
    "model = MLP(input_size=2, hidden_size=4)\n",
    "criterion = nn.BCELoss()\n",
    "optimizer = optim.Adam(model.parameters(), lr=0.03)\n",
    "regularization_coefficient = 0.001\n",
    "\n",
    "# training the model\n",
    "epochs =1000\n",
    "train_losses = []\n",
    "for epoch in range(epochs):\n",
    "    train_loss = 0.0\n",
    "    accuracy = 0\n",
    "    for inputs, labels in train_loader:\n",
    "        optimizer.zero_grad()\n",
    "        outputs = model(inputs)\n",
    "        loss = criterion(outputs, labels)\n",
    "\n",
    "        sum = 0\n",
    "        for params in model.parameters():\n",
    "            sum += torch.sum(torch.square(params))\n",
    "\n",
    "        loss += regularization_coefficient * sum\n",
    "        loss.backward()\n",
    "        optimizer.step()\n",
    "        train_loss += loss.item() \n",
    "    \n",
    "    if epoch % 100 ==0:\n",
    "        print(f'Epoch {epoch} Accuracy {accuracy/len(train_loader.dataset):.4f} loss {train_loss/len(train_loader):.4f}')\n",
    "\n",
    "    train_loss /= len(train_loader)\n",
    "    train_losses.append(train_loss)\n",
    "    \n",
    "total_train_loss = np.mean(train_losses)\n",
    "print(f'Training loss: {total_train_loss:.4f}')\n",
    "        "
   ]
  },
  {
   "cell_type": "code",
   "execution_count": null,
   "metadata": {},
   "outputs": [],
   "source": [
    "# X_test = test_data[['x1', 'x2']].values.astype(np.float32)\n",
    "# y_test = test_data['y1'].values.reshape(-1, 1).astype(np.float32)\n",
    "# test_dataset = CustomDataset(X_test, y_test)\n",
    "# test_loader = DataLoader(test_dataset, batch_size=200, shuffle=True)\n",
    "\n",
    "test_loss = 0.0\n",
    "accuracy = 0\n",
    "with torch.no_grad():\n",
    "    for inputs, labels in test_loader:\n",
    "        outputs = model(inputs)\n",
    "        predicted_labels = torch.where(outputs >= 0.5 , 1.0, 0.0)\n",
    "        accuracy += torch.sum(predicted_labels == labels)\n",
    "        loss = criterion(outputs, labels)\n",
    "        test_loss += loss.item()\n",
    "test_loss /= len(test_loader)\n",
    "print(f'Test loss: {test_loss:.4f}, accuracy: {accuracy/len(test_loader.dataset):.4f}')"
   ]
  },
  {
   "cell_type": "code",
   "execution_count": null,
   "metadata": {},
   "outputs": [],
   "source": [
    "# Generating a grid of points for evaluation\n",
    "x_values = torch.tensor(torch.arange(-7.0, 8.0), requires_grad=False)\n",
    "y_values = torch.tensor(torch.arange(-7.0, 8.0), requires_grad=False)\n",
    "x_values, y_values = torch.meshgrid(x_values, y_values)\n",
    "x_values = x_values.reshape(-1, 1)\n",
    "y_values = y_values.reshape(-1, 1)\n",
    "grid_data = torch.hstack([x_values, y_values])\n",
    "\n",
    "# Evaluating the model on the grid\n",
    "model_outputs = model(grid_data)\n",
    "\n",
    "# Thresholding the model outputs\n",
    "thresholded_outputs = torch.where(model_outputs > 0.5, 1, 0)\n",
    "\n",
    "# Reshaping the thresholded outputs into a 2D grid\n",
    "z = thresholded_outputs.reshape(15, 15)"
   ]
  },
  {
   "cell_type": "markdown",
   "metadata": {},
   "source": [
    "#### Decision surface of MLP with L2 Regularisation"
   ]
  },
  {
   "cell_type": "code",
   "execution_count": null,
   "metadata": {},
   "outputs": [],
   "source": [
    "fig = plt.figure()\n",
    "ax = plt.axes()\n",
    "ax.contourf(xx, yy, z, colors = ['skyblue', 'orange', 'orange', 'skyblue'], levels = 2)\n",
    "ax.scatter(test_data['x1'][test_data['y1']==0], test_data['x2'][test_data['y1']==0], color = 'blue', label='Class 0')\n",
    "ax.scatter(test_data['x1'][test_data['y1']==1], test_data['x2'][test_data['y1']==1], color = 'red', label='Class 1')\n",
    "ax.legend()\n",
    "plt.show"
   ]
  },
  {
   "cell_type": "markdown",
   "metadata": {},
   "source": [
    "## Logistic Regression Model"
   ]
  },
  {
   "cell_type": "code",
   "execution_count": null,
   "metadata": {},
   "outputs": [],
   "source": [
    "class LogisticRegression(nn.Module):\n",
    "    def __init__(self, input_dim):\n",
    "        super(LogisticRegression, self).__init__()\n",
    "        self.linear = nn.Linear(input_dim, 1)\n",
    "\n",
    "    def forward(self, x):\n",
    "        logits = self.linear(x)\n",
    "        return logits"
   ]
  },
  {
   "cell_type": "code",
   "execution_count": null,
   "metadata": {},
   "outputs": [],
   "source": [
    "# Shuffle train and test data\n",
    "train_data = train_data.sample(frac=1).reset_index(drop=True)\n",
    "test_data = test_data.sample(frac=1).reset_index(drop=True)"
   ]
  },
  {
   "cell_type": "markdown",
   "metadata": {},
   "source": [
    "### With x1^2"
   ]
  },
  {
   "cell_type": "code",
   "execution_count": null,
   "metadata": {},
   "outputs": [],
   "source": [
    "X_train = pd.concat([train_data['x1'], train_data['x2'], train_data['x1']**2], axis = 1)\n",
    "X_train.columns = ['x1','x2','x1^2']\n",
    "X_train = torch.tensor(X_train.values, dtype= torch.float32)\n",
    "y_train = train_data['y']\n",
    "y_train = torch.tensor(y_train.values, dtype= torch.float32)\n",
    "# y_train"
   ]
  },
  {
   "cell_type": "code",
   "execution_count": null,
   "metadata": {},
   "outputs": [],
   "source": [
    "reg = LogisticRegression(3)\n",
    "optimizer = torch.optim.Adam(reg.parameters(), lr=0.01)\n",
    "converged = False\n",
    "\n",
    "prev_loss = 1e8\n",
    "\n",
    "i = 0\n",
    "while not converged:\n",
    "    optimizer.zero_grad()\n",
    "    logits = reg(X_train)\n",
    "    logits = logits.reshape(-1)\n",
    "    # print(logits)\n",
    "    loss = F.binary_cross_entropy_with_logits(logits, y_train)\n",
    "    loss.backward()\n",
    "    optimizer.step()\n",
    "    if i%10==0:\n",
    "        print(i, loss.item())\n",
    "    if np.abs(prev_loss - loss.item()) < 1e-5:\n",
    "        converged = True\n",
    "    prev_loss = loss.item() \n",
    "    i = i + 1\n",
    "\n",
    "\n",
    "pred = F.sigmoid(reg(X_train))\n",
    "pred = torch.where(pred > 0.5 , 1.0, 0.0)\n",
    "y_train = y_train.reshape(-1, 1)\n",
    "correct_pred = torch.sum(pred == y_train)\n",
    "acc = correct_pred / len(y_train)\n",
    "print(f'Training accuracy using Logistic Regression with sqaure of x1 {acc}')"
   ]
  },
  {
   "cell_type": "code",
   "execution_count": null,
   "metadata": {},
   "outputs": [],
   "source": [
    "X_test = pd.concat([test_data['x1'], test_data['x2'], test_data['x1']**2], axis = 1)\n",
    "X_test.columns = ['x1','x2','x1^2']\n",
    "X_test = torch.tensor(X_test.values, dtype= torch.float32)\n",
    "y_test = test_data['y1']\n",
    "y_test = torch.tensor(y_test.values, dtype= torch.float32)\n",
    "\n",
    "\n",
    "pred = F.sigmoid(reg(X_test))\n",
    "pred = torch.where(pred > 0.5 , 1.0, 0.0)\n",
    "y_test = y_test.reshape(-1, 1)\n",
    "correct_pred = torch.sum(pred == y_test)\n",
    "acc = correct_pred / len(y_test)\n",
    "print(f'Testing accuracy using Logistic Regression with sqaure of x1 {acc}')"
   ]
  },
  {
   "cell_type": "code",
   "execution_count": null,
   "metadata": {},
   "outputs": [],
   "source": [
    "xx1 = torch.tensor(torch.arange(-7.0,8.0), requires_grad = False)\n",
    "xx2 = torch.tensor(torch.arange(-7.0,8.0), requires_grad = False)\n",
    "xx1, xx2 = torch.meshgrid(xx1, xx2)\n",
    "xx1 = xx1.reshape(-1, 1)\n",
    "xx2 = xx2.reshape(-1, 1)\n",
    "xx3 = xx1**2\n",
    "# print(xx3)\n",
    "data = torch.hstack([xx1, xx2, xx3 ])\n",
    "z = reg(data)\n",
    "z = torch.where(z > 0.5, 1, 0)\n",
    "z = z.reshape(15,15)"
   ]
  },
  {
   "cell_type": "code",
   "execution_count": null,
   "metadata": {},
   "outputs": [],
   "source": [
    "fig = plt.figure()\n",
    "ax = plt.axes()\n",
    "ax.contourf(xx, yy, z, colors = ['skyblue', 'orange', 'orange', 'skyblue'], levels = 2)\n",
    "ax.scatter(test_data['x1'][test_data['y1']==0], test_data['x2'][test_data['y1']==0], color = 'blue')\n",
    "ax.scatter(test_data['x1'][test_data['y1']==1], test_data['x2'][test_data['y1']==1], color = 'red')"
   ]
  },
  {
   "cell_type": "markdown",
   "metadata": {},
   "source": [
    "### With x1x2"
   ]
  },
  {
   "cell_type": "code",
   "execution_count": null,
   "metadata": {},
   "outputs": [],
   "source": [
    "X_train = pd.concat([train_data['x1'], train_data['x2'], train_data['x1']*train_data['x2']], axis = 1)\n",
    "X_train.columns = ['x1','x2','x1x2']\n",
    "X_train = torch.tensor(X_train.values, dtype= torch.float32)\n",
    "y_train = train_data['y']\n",
    "y_train = torch.tensor(y_train.values, dtype= torch.float32)"
   ]
  },
  {
   "cell_type": "code",
   "execution_count": null,
   "metadata": {},
   "outputs": [],
   "source": [
    "reg = LogisticRegression(3)\n",
    "opt = torch.optim.Adam(reg.parameters(), lr=0.01)\n",
    "converged = False\n",
    "\n",
    "prev_loss = 1e8\n",
    "\n",
    "i = 0\n",
    "while not converged:\n",
    "    opt.zero_grad()\n",
    "    logits = reg(X_train)\n",
    "    logits = logits.reshape(-1)\n",
    "    loss = F.binary_cross_entropy_with_logits(logits, y_train)\n",
    "    loss.backward()\n",
    "    opt.step()\n",
    "    if i%10==0:\n",
    "        print(i, loss.item())\n",
    "    if np.abs(prev_loss - loss.item()) < 1e-5:\n",
    "        converged = True\n",
    "    prev_loss = loss.item() \n",
    "    i = i + 1\n",
    "\n",
    "pred = F.sigmoid(reg(X_train))\n",
    "pred = torch.where(pred > 0.5 , 1.0, 0.0)\n",
    "y_train = y_train.reshape(-1, 1)\n",
    "correct_pred = torch.sum(pred == y_train)\n",
    "acc = correct_pred / len(y_train)\n",
    "print(f'Training accuracy using Logistic Regression with x1x2 {acc}')"
   ]
  },
  {
   "cell_type": "code",
   "execution_count": null,
   "metadata": {},
   "outputs": [],
   "source": [
    "X_test = pd.concat([test_data['x1'], test_data['x2'], test_data['x1']*test_data['x2']], axis = 1)\n",
    "X_test.columns = ['x1','x2','x1x2']\n",
    "X_test = torch.tensor(X_test.values, dtype= torch.float32)\n",
    "y_test = test_data['y1']\n",
    "y_test = torch.tensor(y_test.values, dtype= torch.float32)\n",
    "\n",
    "pred = F.sigmoid(reg(X_test))\n",
    "pred = torch.where(pred > 0.5 , 1.0, 0.0)\n",
    "y_test = y_test.reshape(-1, 1)\n",
    "correct_pred = torch.sum(pred == y_test)\n",
    "acc = correct_pred / len(y_test)\n",
    "print(f'Testing accuracy using Logistic Regression {acc}')"
   ]
  },
  {
   "cell_type": "code",
   "execution_count": null,
   "metadata": {},
   "outputs": [],
   "source": [
    "xx1 = torch.tensor(torch.arange(-7.0,8.0), requires_grad = False)\n",
    "xx2 = torch.tensor(torch.arange(-7.0,8.0), requires_grad = False)\n",
    "xx1, xx2 = torch.meshgrid(xx1, xx2)\n",
    "xx1 = xx1.reshape(-1, 1)\n",
    "xx2 = xx2.reshape(-1, 1)\n",
    "xx3 = xx1 * xx2\n",
    "data = torch.hstack([xx1, xx2, xx3 ])\n",
    "z = reg(data)\n",
    "z = torch.where(z > 0.5, 1, 0)\n",
    "z = z.reshape(15,15)"
   ]
  },
  {
   "cell_type": "markdown",
   "metadata": {},
   "source": [
    "#### Decision surface of Logistic regression"
   ]
  },
  {
   "cell_type": "code",
   "execution_count": null,
   "metadata": {},
   "outputs": [],
   "source": [
    "fig = plt.figure()\n",
    "ax = plt.axes()\n",
    "ax.contourf(xx, yy, z, colors = ['skyblue', 'orange', 'orange', 'skyblue'], levels = 2)\n",
    "ax.scatter(test_data['x1'][test_data['y1']==0], test_data['x2'][test_data['y1']==0], color = 'blue')\n",
    "ax.scatter(test_data['x1'][test_data['y1']==1], test_data['x2'][test_data['y1']==1], color = 'red')"
   ]
  }
 ],
 "metadata": {
  "kernelspec": {
   "display_name": "base",
   "language": "python",
   "name": "python3"
  },
  "language_info": {
   "codemirror_mode": {
    "name": "ipython",
    "version": 3
   },
   "file_extension": ".py",
   "mimetype": "text/x-python",
   "name": "python",
   "nbconvert_exporter": "python",
   "pygments_lexer": "ipython3",
   "version": "3.11.1"
  }
 },
 "nbformat": 4,
 "nbformat_minor": 2
}
