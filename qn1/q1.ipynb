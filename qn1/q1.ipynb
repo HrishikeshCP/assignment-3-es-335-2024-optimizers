{
 "cells": [
  {
   "cell_type": "code",
   "execution_count": null,
   "metadata": {},
   "outputs": [
    {
     "ename": "",
     "evalue": "",
     "output_type": "error",
     "traceback": [
      "\u001b[1;31mThe kernel failed to start as 'ASTText' could not be imported from 'c:\\Users\\user\\anaconda3\\Lib\\site-packages\\asttokens\\__init__.py'.\n",
      "\u001b[1;31mClick <a href='https://aka.ms/kernelFailuresModuleImportErrFromFile'>here</a> for more info."
     ]
    }
   ],
   "source": [
    "import torch\n",
    "import torch.nn.functional as F\n",
    "from torch import nn\n",
    "import pandas as pd\n",
    "import matplotlib.pyplot as plt # for making figures\n",
    "%matplotlib inline\n",
    "%config InlineBackend.figure_format = 'retina'\n",
    "from pprint import pprint"
   ]
  },
  {
   "cell_type": "code",
   "execution_count": null,
   "metadata": {},
   "outputs": [
    {
     "ename": "",
     "evalue": "",
     "output_type": "error",
     "traceback": [
      "\u001b[1;31mThe kernel failed to start as 'ASTText' could not be imported from 'c:\\Users\\user\\anaconda3\\Lib\\site-packages\\asttokens\\__init__.py'.\n",
      "\u001b[1;31mClick <a href='https://aka.ms/kernelFailuresModuleImportErrFromFile'>here</a> for more info."
     ]
    }
   ],
   "source": [
    "device = torch.device(\"cuda\" if torch.cuda.is_available() else \"cpu\")"
   ]
  },
  {
   "cell_type": "code",
   "execution_count": null,
   "metadata": {},
   "outputs": [
    {
     "ename": "",
     "evalue": "",
     "output_type": "error",
     "traceback": [
      "\u001b[1;31mThe kernel failed to start as 'ASTText' could not be imported from 'c:\\Users\\user\\anaconda3\\Lib\\site-packages\\asttokens\\__init__.py'.\n",
      "\u001b[1;31mClick <a href='https://aka.ms/kernelFailuresModuleImportErrFromFile'>here</a> for more info."
     ]
    }
   ],
   "source": [
    "device"
   ]
  },
  {
   "cell_type": "code",
   "execution_count": null,
   "metadata": {},
   "outputs": [
    {
     "ename": "",
     "evalue": "",
     "output_type": "error",
     "traceback": [
      "\u001b[1;31mThe kernel failed to start as 'ASTText' could not be imported from 'c:\\Users\\user\\anaconda3\\Lib\\site-packages\\asttokens\\__init__.py'.\n",
      "\u001b[1;31mClick <a href='https://aka.ms/kernelFailuresModuleImportErrFromFile'>here</a> for more info."
     ]
    }
   ],
   "source": [
    "with open(\"shakespeare.txt\", \"r\") as file:\n",
    "    content = file.read()"
   ]
  },
  {
   "cell_type": "code",
   "execution_count": null,
   "metadata": {},
   "outputs": [
    {
     "ename": "",
     "evalue": "",
     "output_type": "error",
     "traceback": [
      "\u001b[1;31mThe kernel failed to start as 'ASTText' could not be imported from 'c:\\Users\\user\\anaconda3\\Lib\\site-packages\\asttokens\\__init__.py'.\n",
      "\u001b[1;31mClick <a href='https://aka.ms/kernelFailuresModuleImportErrFromFile'>here</a> for more info."
     ]
    }
   ],
   "source": [
    "# build the vocabulary of characters and mappings to/from integers\n",
    "chars = sorted(list(set(content)))\n",
    "stoi = {s:i for i,s in enumerate(chars)}\n",
    "# stoi['.'] = 0\n",
    "itos = {i:s for s,i in stoi.items()}\n",
    "pprint(itos)"
   ]
  },
  {
   "cell_type": "code",
   "execution_count": null,
   "metadata": {},
   "outputs": [
    {
     "ename": "",
     "evalue": "",
     "output_type": "error",
     "traceback": [
      "\u001b[1;31mThe kernel failed to start as 'ASTText' could not be imported from 'c:\\Users\\user\\anaconda3\\Lib\\site-packages\\asttokens\\__init__.py'.\n",
      "\u001b[1;31mClick <a href='https://aka.ms/kernelFailuresModuleImportErrFromFile'>here</a> for more info."
     ]
    }
   ],
   "source": [
    "block_size = 4 # context length: how many characters do we take to predict the next one?\n",
    "X, Y = [], []\n",
    "\n",
    "  \n",
    "#print(w)\n",
    "context = [0] * block_size\n",
    "for ch in content:\n",
    "  ix = stoi[ch]\n",
    "  X.append(context)\n",
    "  Y.append(ix)\n",
    "  print(''.join(itos[i] for i in context), '--->', itos[ix])\n",
    "  context = context[1:] + [ix] # crop and append\n",
    "  \n",
    "# Move data to GPU\n",
    "\n",
    "X = torch.tensor(X).to(device)\n",
    "Y = torch.tensor(Y).to(device)"
   ]
  },
  {
   "cell_type": "code",
   "execution_count": null,
   "metadata": {},
   "outputs": [
    {
     "ename": "",
     "evalue": "",
     "output_type": "error",
     "traceback": [
      "\u001b[1;31mThe kernel failed to start as 'ASTText' could not be imported from 'c:\\Users\\user\\anaconda3\\Lib\\site-packages\\asttokens\\__init__.py'.\n",
      "\u001b[1;31mClick <a href='https://aka.ms/kernelFailuresModuleImportErrFromFile'>here</a> for more info."
     ]
    }
   ],
   "source": [
    "X.shape, X.dtype, Y.shape, Y.dtype"
   ]
  },
  {
   "cell_type": "code",
   "execution_count": null,
   "metadata": {},
   "outputs": [
    {
     "ename": "",
     "evalue": "",
     "output_type": "error",
     "traceback": [
      "\u001b[1;31mThe kernel failed to start as 'ASTText' could not be imported from 'c:\\Users\\user\\anaconda3\\Lib\\site-packages\\asttokens\\__init__.py'.\n",
      "\u001b[1;31mClick <a href='https://aka.ms/kernelFailuresModuleImportErrFromFile'>here</a> for more info."
     ]
    }
   ],
   "source": [
    "emb_dim = 2\n",
    "emb = torch.nn.Embedding(len(stoi), emb_dim)\n",
    "emb.weight\n",
    "emb.weight.shape"
   ]
  },
  {
   "cell_type": "code",
   "execution_count": null,
   "metadata": {},
   "outputs": [
    {
     "ename": "",
     "evalue": "",
     "output_type": "error",
     "traceback": [
      "\u001b[1;31mThe kernel failed to start as 'ASTText' could not be imported from 'c:\\Users\\user\\anaconda3\\Lib\\site-packages\\asttokens\\__init__.py'.\n",
      "\u001b[1;31mClick <a href='https://aka.ms/kernelFailuresModuleImportErrFromFile'>here</a> for more info."
     ]
    }
   ],
   "source": [
    "# Function to visualize the embedding in 2d space\n",
    "\n",
    "def plot_emb(emb, itos, ax=None):\n",
    "    if ax is None:\n",
    "        fig, ax = plt.subplots()\n",
    "    for i in range(len(itos)):\n",
    "        x, y = emb.weight[i].detach().cpu().numpy()\n",
    "        ax.scatter(x, y, color='k')\n",
    "        ax.text(x + 0.05, y + 0.05, itos[i])\n",
    "    return ax\n",
    "\n",
    "plot_emb(emb, itos)"
   ]
  },
  {
   "cell_type": "code",
   "execution_count": null,
   "metadata": {},
   "outputs": [
    {
     "ename": "",
     "evalue": "",
     "output_type": "error",
     "traceback": [
      "\u001b[1;31mThe kernel failed to start as 'ASTText' could not be imported from 'c:\\Users\\user\\anaconda3\\Lib\\site-packages\\asttokens\\__init__.py'.\n",
      "\u001b[1;31mClick <a href='https://aka.ms/kernelFailuresModuleImportErrFromFile'>here</a> for more info."
     ]
    }
   ],
   "source": [
    "class NextChar(nn.Module):\n",
    "  def __init__(self, block_size, vocab_size, emb_dim, hidden_size):\n",
    "    super().__init__()\n",
    "    self.emb = nn.Embedding(vocab_size, emb_dim)\n",
    "    self.lin1 = nn.Linear(block_size * emb_dim, hidden_size)\n",
    "    self.lin2 = nn.Linear(hidden_size, vocab_size)\n",
    "\n",
    "  def forward(self, x):\n",
    "    x = self.emb(x)\n",
    "    x = x.view(x.shape[0], -1)\n",
    "    x = torch.sin(self.lin1(x))\n",
    "    x = self.lin2(x)\n",
    "    return x"
   ]
  },
  {
   "cell_type": "code",
   "execution_count": null,
   "metadata": {},
   "outputs": [
    {
     "ename": "",
     "evalue": "",
     "output_type": "error",
     "traceback": [
      "\u001b[1;31mThe kernel failed to start as 'ASTText' could not be imported from 'c:\\Users\\user\\anaconda3\\Lib\\site-packages\\asttokens\\__init__.py'.\n",
      "\u001b[1;31mClick <a href='https://aka.ms/kernelFailuresModuleImportErrFromFile'>here</a> for more info."
     ]
    }
   ],
   "source": [
    "# Generate Text from untrained model\n",
    "\n",
    "\n",
    "model = NextChar(block_size, len(stoi), emb_dim, 10).to(device)\n",
    "# model = torch.compile(model)\n",
    "\n",
    "g = torch.Generator()\n",
    "g.manual_seed(4000002)\n",
    "def generate_text(model, itos, stoi, block_size, max_len=10):\n",
    "    context = [0] * block_size\n",
    "    txt = ''\n",
    "    for i in range(max_len):\n",
    "        x = torch.tensor(context).view(1, -1).to(device)\n",
    "        y_pred = model(x)\n",
    "        ix = torch.distributions.categorical.Categorical(logits=y_pred).sample().item()\n",
    "        ch = itos[ix]\n",
    "        txt += ch\n",
    "        context = context[1:] + [ix]\n",
    "    return txt\n",
    "\n",
    "print(generate_text(model, itos, stoi, block_size,30))"
   ]
  },
  {
   "cell_type": "code",
   "execution_count": null,
   "metadata": {},
   "outputs": [
    {
     "ename": "",
     "evalue": "",
     "output_type": "error",
     "traceback": [
      "\u001b[1;31mThe kernel failed to start as 'ASTText' could not be imported from 'c:\\Users\\user\\anaconda3\\Lib\\site-packages\\asttokens\\__init__.py'.\n",
      "\u001b[1;31mClick <a href='https://aka.ms/kernelFailuresModuleImportErrFromFile'>here</a> for more info."
     ]
    }
   ],
   "source": [
    "for param_name, param in model.named_parameters():\n",
    "    print(param_name, param.shape)"
   ]
  },
  {
   "cell_type": "code",
   "execution_count": null,
   "metadata": {},
   "outputs": [
    {
     "ename": "",
     "evalue": "",
     "output_type": "error",
     "traceback": [
      "\u001b[1;31mThe kernel failed to start as 'ASTText' could not be imported from 'c:\\Users\\user\\anaconda3\\Lib\\site-packages\\asttokens\\__init__.py'.\n",
      "\u001b[1;31mClick <a href='https://aka.ms/kernelFailuresModuleImportErrFromFile'>here</a> for more info."
     ]
    }
   ],
   "source": [
    "#code for training\n",
    "loss_fn = nn.CrossEntropyLoss()\n",
    "opt = torch.optim.AdamW(model.parameters(), lr=0.01)\n",
    "import time\n",
    "# Mini-batch training\n",
    "batch_size = 4096\n",
    "print_every = 100\n",
    "elapsed_time = []\n",
    "for epoch in range(10000):\n",
    "    start_time = time.time()\n",
    "    for i in range(0, X.shape[0], batch_size):\n",
    "        x = X[i:i+batch_size]\n",
    "        y = Y[i:i+batch_size]\n",
    "        y_pred = model(x)\n",
    "        loss = loss_fn(y_pred, y)\n",
    "        loss.backward()\n",
    "        opt.step()\n",
    "        opt.zero_grad()\n",
    "    end_time = time.time()\n",
    "    elapsed_time.append(end_time - start_time)\n",
    "    if epoch % print_every == 0:\n",
    "        print(epoch, loss.item())"
   ]
  },
  {
   "cell_type": "code",
   "execution_count": null,
   "metadata": {},
   "outputs": [
    {
     "ename": "",
     "evalue": "",
     "output_type": "error",
     "traceback": [
      "\u001b[1;31mThe kernel failed to start as 'ASTText' could not be imported from 'c:\\Users\\user\\anaconda3\\Lib\\site-packages\\asttokens\\__init__.py'.\n",
      "\u001b[1;31mClick <a href='https://aka.ms/kernelFailuresModuleImportErrFromFile'>here</a> for more info."
     ]
    }
   ],
   "source": [
    "# Visualize the embedding\n",
    "\n",
    "# plot_emb(model.emb, itos)"
   ]
  },
  {
   "cell_type": "code",
   "execution_count": null,
   "metadata": {},
   "outputs": [
    {
     "ename": "",
     "evalue": "",
     "output_type": "error",
     "traceback": [
      "\u001b[1;31mThe kernel failed to start as 'ASTText' could not be imported from 'c:\\Users\\user\\anaconda3\\Lib\\site-packages\\asttokens\\__init__.py'.\n",
      "\u001b[1;31mClick <a href='https://aka.ms/kernelFailuresModuleImportErrFromFile'>here</a> for more info."
     ]
    }
   ],
   "source": [
    "from sklearn.manifold import TSNE\n",
    "\n",
    "def visualize_embeddings_with_tsne(emb, stoi, itos, title='t-SNE Visualization of Embeddings', figsize=(3, 3)):\n",
    "    \"\"\"\n",
    "    Visualizes embeddings with t-SNE.\n",
    "    \n",
    "    Args:\n",
    "    - emb (torch.nn.Embedding): The embedding layer.\n",
    "    - stoi (dict): Dictionary mapping characters to indices.\n",
    "    - itos (dict): Dictionary mapping indices to characters.\n",
    "    - title (str): Title of the plot (default: 't-SNE Visualization of Embeddings').\n",
    "    - figsize (tuple): Figure size (default: (10, 8)).\n",
    "    \n",
    "    Returns:\n",
    "    - None\n",
    "    \"\"\"\n",
    "    # Get the embeddings from the embedding layer\n",
    "    embeddings = emb.weight.data.numpy()\n",
    "\n",
    "    # Initialize t-SNE with desired parameters\n",
    "    tsne = TSNE(n_components=2, random_state=42)\n",
    "\n",
    "    # Fit t-SNE to the embeddings\n",
    "    embeddings_tsne = tsne.fit_transform(embeddings)\n",
    "\n",
    "    # Visualize the t-SNE embeddings\n",
    "    plt.figure(figsize=figsize)\n",
    "    for i in range(len(embeddings)):\n",
    "        plt.scatter(embeddings_tsne[i, 0], embeddings_tsne[i, 1], label=itos[i], marker='.')\n",
    "    plt.title(title)\n",
    "    plt.xlabel('t-SNE Dimension 1')\n",
    "    plt.ylabel('t-SNE Dimension 2')\n",
    "    # plt.legend(title='Characters')\n",
    "    plt.show()\n",
    "\n",
    "# Example usage:\n",
    "# Assuming you have already defined emb, stoi, and itos\n",
    "# Replace with your actual embeddings and dictionaries\n",
    "visualize_embeddings_with_tsne(model.emb, stoi, itos)"
   ]
  },
  {
   "cell_type": "code",
   "execution_count": null,
   "metadata": {},
   "outputs": [
    {
     "ename": "",
     "evalue": "",
     "output_type": "error",
     "traceback": [
      "\u001b[1;31mThe kernel failed to start as 'ASTText' could not be imported from 'c:\\Users\\user\\anaconda3\\Lib\\site-packages\\asttokens\\__init__.py'.\n",
      "\u001b[1;31mClick <a href='https://aka.ms/kernelFailuresModuleImportErrFromFile'>here</a> for more info."
     ]
    }
   ],
   "source": [
    "#generate text\n",
    "print(generate_text(model, itos, stoi, block_size,100))"
   ]
  }
 ],
 "metadata": {
  "kernelspec": {
   "display_name": "Python 3",
   "language": "python",
   "name": "python3"
  },
  "language_info": {
   "codemirror_mode": {
    "name": "ipython",
    "version": 3
   },
   "file_extension": ".py",
   "mimetype": "text/x-python",
   "name": "python",
   "nbconvert_exporter": "python",
   "pygments_lexer": "ipython3",
   "version": "3.11.0"
  }
 },
 "nbformat": 4,
 "nbformat_minor": 2
}
